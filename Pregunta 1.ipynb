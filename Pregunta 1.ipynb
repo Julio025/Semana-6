{
 "cells": [
  {
   "cell_type": "code",
   "execution_count": null,
   "metadata": {},
   "outputs": [],
   "source": [
    "import cv2\n",
    "\n",
    "slider_max = 100\n",
    "title_window = 'Brillo'\n",
    "\n",
    "def on_trackbar(val):\n",
    "    dst = scrl + val/255\n",
    "    cv2.imshow(title_window, dst)\n",
    "    \n",
    "scrl = cv2.imread(\"emma.jpg\")/255\n",
    "\n",
    "\n",
    "cv2.namedWindow(title_window)\n",
    "trackbar_name = f\"Brillo {slider_max}\"\n",
    "cv2.createTrackbar(trackbar_name, title_window, 0, slider_max, on_trackbar)\n",
    "on_trackbar(0)\n",
    "while True:\n",
    "    key = cv2.waitKey(1)\n",
    "    if key != -1:\n",
    "        break\n",
    "    \n",
    "cv2.destroyAllwindows()"
   ]
  }
 ],
 "metadata": {
  "kernelspec": {
   "display_name": "Python 3",
   "language": "python",
   "name": "python3"
  },
  "language_info": {
   "codemirror_mode": {
    "name": "ipython",
    "version": 3
   },
   "file_extension": ".py",
   "mimetype": "text/x-python",
   "name": "python",
   "nbconvert_exporter": "python",
   "pygments_lexer": "ipython3",
   "version": "3.6.6"
  }
 },
 "nbformat": 4,
 "nbformat_minor": 2
}
